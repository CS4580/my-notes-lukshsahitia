{
 "cells": [
  {
   "cell_type": "markdown",
   "metadata": {},
   "source": [
    "## Tasks\n",
    "\n",
    "## Load the wine Dataset"
   ]
  },
  {
   "cell_type": "markdown",
   "metadata": {},
   "source": [
    "Calculate the `median` of the `points` column from the dataset frame."
   ]
  },
  {
   "cell_type": "code",
   "execution_count": 9,
   "metadata": {},
   "outputs": [
    {
     "name": "stdout",
     "output_type": "stream",
     "text": [
      "88.0\n"
     ]
    }
   ],
   "source": [
    "import pandas as pd\n",
    "\n",
    "# Load the dataset\n",
    "wine_df = pd.read_csv('../data/wine-reviews/winemag-data-130k-v2.csv')\n",
    "\n",
    "# Calculate the median of the 'points' column\n",
    "median_points = wine_df['points'].median()\n",
    "\n",
    "# Output the result\n",
    "print(median_points)"
   ]
  },
  {
   "cell_type": "code",
   "execution_count": 10,
   "metadata": {},
   "outputs": [
    {
     "name": "stdout",
     "output_type": "stream",
     "text": [
      "['Italy' 'Portugal' 'US' 'Spain' 'France' 'Germany' 'Argentina' 'Chile'\n",
      " 'Australia' 'Austria' 'South Africa' 'New Zealand' 'Israel' 'Hungary'\n",
      " 'Greece' 'Romania' 'Mexico' 'Canada' nan 'Turkey' 'Czech Republic'\n",
      " 'Slovenia' 'Luxembourg' 'Croatia' 'Georgia' 'Uruguay' 'England' 'Lebanon'\n",
      " 'Serbia' 'Brazil' 'Moldova' 'Morocco' 'Peru' 'India' 'Bulgaria' 'Cyprus'\n",
      " 'Armenia' 'Switzerland' 'Bosnia and Herzegovina' 'Ukraine' 'Slovakia'\n",
      " 'Macedonia' 'China' 'Egypt']\n"
     ]
    }
   ],
   "source": [
    "# Find the unique countries represented in the dataset\n",
    "countries = wine_df['country'].unique()\n",
    "\n",
    "# Output the result\n",
    "print(countries)"
   ]
  },
  {
   "cell_type": "code",
   "execution_count": 11,
   "metadata": {},
   "outputs": [
    {
     "name": "stdout",
     "output_type": "stream",
     "text": [
      "country\n",
      "US                        54504\n",
      "France                    22093\n",
      "Italy                     19540\n",
      "Spain                      6645\n",
      "Portugal                   5691\n",
      "Chile                      4472\n",
      "Argentina                  3800\n",
      "Austria                    3345\n",
      "Australia                  2329\n",
      "Germany                    2165\n",
      "New Zealand                1419\n",
      "South Africa               1401\n",
      "Israel                      505\n",
      "Greece                      466\n",
      "Canada                      257\n",
      "Hungary                     146\n",
      "Bulgaria                    141\n",
      "Romania                     120\n",
      "Uruguay                     109\n",
      "Turkey                       90\n",
      "Slovenia                     87\n",
      "Georgia                      86\n",
      "England                      74\n",
      "Croatia                      73\n",
      "Mexico                       70\n",
      "Moldova                      59\n",
      "Brazil                       52\n",
      "Lebanon                      35\n",
      "Morocco                      28\n",
      "Peru                         16\n",
      "Ukraine                      14\n",
      "Serbia                       12\n",
      "Czech Republic               12\n",
      "Macedonia                    12\n",
      "Cyprus                       11\n",
      "India                         9\n",
      "Switzerland                   7\n",
      "Luxembourg                    6\n",
      "Bosnia and Herzegovina        2\n",
      "Armenia                       2\n",
      "Slovakia                      1\n",
      "China                         1\n",
      "Egypt                         1\n",
      "Name: count, dtype: int64\n"
     ]
    }
   ],
   "source": [
    "# Find how often each country appears in the dataset\n",
    "reviews_per_country = wine_df['country'].value_counts()\n",
    "\n",
    "# Output the result\n",
    "print(reviews_per_country)"
   ]
  },
  {
   "cell_type": "code",
   "execution_count": 12,
   "metadata": {},
   "outputs": [
    {
     "name": "stdout",
     "output_type": "stream",
     "text": [
      "0               NaN\n",
      "1        -20.363389\n",
      "2        -21.363389\n",
      "3        -22.363389\n",
      "4         29.636611\n",
      "            ...    \n",
      "129966    -7.363389\n",
      "129967    39.636611\n",
      "129968    -5.363389\n",
      "129969    -3.363389\n",
      "129970   -14.363389\n",
      "Name: price, Length: 129971, dtype: float64\n"
     ]
    }
   ],
   "source": [
    "# Calculate the mean of the 'price' column\n",
    "mean_price = wine_df['price'].mean()\n",
    "\n",
    "# Create a new variable 'centered_price' by subtracting the mean price from each price\n",
    "centered_price = wine_df['price'] - mean_price\n",
    "\n",
    "# Output the result (optional)\n",
    "print(centered_price)"
   ]
  },
  {
   "cell_type": "code",
   "execution_count": 13,
   "metadata": {},
   "outputs": [
    {
     "name": "stdout",
     "output_type": "stream",
     "text": [
      "Bandit NV Merlot (California)\n"
     ]
    }
   ],
   "source": [
    "# First, calculate the point-per-price ratio\n",
    "wine_df['point_per_price'] = wine_df['points'] / wine_df['price']\n",
    "\n",
    "# Then, find the index of the wine with the highest point-per-price ratio\n",
    "bargain_index = wine_df['point_per_price'].idxmax()\n",
    "\n",
    "# Extract the title of the wine with the highest point-per-price ratio\n",
    "bargain_wine = wine_df.loc[bargain_index, 'title']\n",
    "\n",
    "# Output the result\n",
    "print(bargain_wine)"
   ]
  },
  {
   "cell_type": "code",
   "execution_count": 19,
   "metadata": {},
   "outputs": [
    {
     "name": "stdout",
     "output_type": "stream",
     "text": [
      "fruity      9455\n",
      "tropical    3800\n",
      "dtype: int64\n",
      "fruity      9090\n",
      "tropical    3607\n",
      "dtype: int64\n"
     ]
    }
   ],
   "source": [
    "# Count occurrences of the words 'fruity' and 'tropical' in the 'description' column\n",
    "fruity_count = wine_df['description'].str.contains('fruity', case=False, na=False).sum()\n",
    "tropical_count = wine_df['description'].str.contains('tropical', case=False, na=False).sum()\n",
    "\n",
    "tropical_count2 = wine_df['description'].map(lambda desc: 'tropical' in str(desc)).sum()\n",
    "fruity_count2 = wine_df['description'].map(lambda desc: 'fruity' in str(desc)).sum()\n",
    "\n",
    "# Create a Series with the counts\n",
    "descriptor_counts = pd.Series({'fruity': fruity_count, 'tropical': tropical_count})\n",
    "descriptor_counts2 = pd.Series({'fruity': fruity_count2, 'tropical': tropical_count2})\n",
    "\n",
    "# Output the result\n",
    "print(descriptor_counts)\n",
    "print(descriptor_counts2)\n"
   ]
  },
  {
   "cell_type": "code",
   "execution_count": 21,
   "metadata": {},
   "outputs": [
    {
     "name": "stdout",
     "output_type": "stream",
     "text": [
      "points\n",
      "2    115125\n",
      "1     12430\n",
      "3      2416\n",
      "Name: count, dtype: int64\n",
      "points\n",
      "2    115125\n",
      "1     12430\n",
      "3      2416\n",
      "Name: count, dtype: int64\n"
     ]
    }
   ],
   "source": [
    "# Create a Series called: star_ratings\n",
    "# With the number of stars corresponding to each review in the Dataset.\n",
    "# Rating system ranges from 80-100 points.\n",
    "# A score of 95 or higher = 3 stars.\n",
    "# A score of at least 85 but less than 95 = 2 stars.\n",
    "# Any other score is 1 star.\n",
    "\n",
    "# Create the 'star_ratings' Series based on the points\n",
    "star_ratings = pd.cut(wine_df['points'], \n",
    "                      bins=[0, 84, 94, 100], \n",
    "                      labels=[1, 2, 3], \n",
    "                      right=True, \n",
    "                      include_lowest=True)\n",
    "\n",
    "star_counts = star_ratings.value_counts()\n",
    "\n",
    "def assign_stars(points):\n",
    "    if points >= 95:\n",
    "        return 3\n",
    "    elif points >= 85:\n",
    "        return 2\n",
    "    else:\n",
    "        return 1\n",
    "\n",
    "# Use apply with lambda to create the 'star_ratings' column\n",
    "star_ratings2 = wine_df['points'].apply(lambda x: assign_stars(x))\n",
    "\n",
    "# Count the occurrences of each star rating\n",
    "star_counts2 = star_ratings.value_counts()\n",
    "\n",
    "# Output the counts\n",
    "print(star_counts)\n",
    "\n",
    "# Output the result (optional)\n",
    "print(star_counts2)"
   ]
  },
  {
   "cell_type": "code",
   "execution_count": null,
   "metadata": {},
   "outputs": [],
   "source": []
  }
 ],
 "metadata": {
  "kernelspec": {
   "display_name": "CS4580",
   "language": "python",
   "name": "python3"
  },
  "language_info": {
   "codemirror_mode": {
    "name": "ipython",
    "version": 3
   },
   "file_extension": ".py",
   "mimetype": "text/x-python",
   "name": "python",
   "nbconvert_exporter": "python",
   "pygments_lexer": "ipython3",
   "version": "3.10.14"
  }
 },
 "nbformat": 4,
 "nbformat_minor": 2
}
