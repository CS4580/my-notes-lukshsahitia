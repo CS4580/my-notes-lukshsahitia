{
 "cells": [
  {
   "cell_type": "markdown",
   "metadata": {},
   "source": [
    "## Iterables\n",
    "Include comprehensions, iterable objects, and iterators. We can briefly discuss the lazy evaluation model with generators.\n",
    "\n",
    "### List Comprehensions.\n",
    "The shorthand of comprehension will make your code more readable, expressive, and effective."
   ]
  },
  {
   "cell_type": "code",
   "execution_count": 19,
   "metadata": {},
   "outputs": [
    {
     "data": {
      "text/plain": [
       "['Today', 'I', 'am', 'very', 'happy', 'to', 'learn', 'about', 'Comprehensions']"
      ]
     },
     "execution_count": 19,
     "metadata": {},
     "output_type": "execute_result"
    }
   ],
   "source": [
    "# a big string\n",
    "words = \"Today I am very happy to learn about Comprehensions\".split()\n",
    "words"
   ]
  },
  {
   "cell_type": "code",
   "execution_count": 20,
   "metadata": {},
   "outputs": [
    {
     "name": "stdout",
     "output_type": "stream",
     "text": [
      "['Today', 'I', 'am', 'very', 'happy', 'to', 'learn', 'about', 'Comprehensions']\n",
      "[5, 1, 2, 4, 5, 2, 5, 5, 14]\n"
     ]
    }
   ],
   "source": [
    "# Create a new list with the length of each string from words\n",
    "lengths = []\n",
    "for word in words:\n",
    "  lengths.append(len(word))\n",
    "\n",
    "print(words)\n",
    "print(lengths)"
   ]
  },
  {
   "cell_type": "code",
   "execution_count": 21,
   "metadata": {},
   "outputs": [
    {
     "name": "stdout",
     "output_type": "stream",
     "text": [
      "[5, 1, 2, 4, 5, 2, 5, 5, 14]\n"
     ]
    }
   ],
   "source": [
    "# Use a list comprehension instead\n",
    "lengths = [len(word) for word in words]\n",
    "print(lengths)"
   ]
  },
  {
   "cell_type": "code",
   "execution_count": 27,
   "metadata": {},
   "outputs": [
    {
     "name": "stdout",
     "output_type": "stream",
     "text": [
      "[1, 1, 1, 2, 3, 3, 4, 5, 6, 7, 8, 9, 10, 11, 13, 14, 15, 16, 18, 19]\n",
      "[1, 2, 6, 24, 120, 720, 5040, 40320, 362880, 3628800, 39916800, 479001600, 6227020800, 87178291200, 1307674368000, 20922789888000, 355687428096000, 6402373705728000, 121645100408832000, 2432902008176640000]\n"
     ]
    }
   ],
   "source": [
    "# Using a list comprehension, calculate the length of the first 20 factorial numbers\n",
    "from math import factorial as fact\n",
    "factorial_lengths = [len(str(fact(number))) for number in range(1,21)]\n",
    "print(factorial_lengths)\n",
    "print([fact(number) for number in range(1,21)])"
   ]
  },
  {
   "cell_type": "markdown",
   "metadata": {},
   "source": [
    "### Set Comprehensions\n",
    "General form:\n",
    "`{expr(item) for item in iterable}`"
   ]
  },
  {
   "cell_type": "code",
   "execution_count": 31,
   "metadata": {},
   "outputs": [],
   "source": [
    "# Task: Create a list of unique length of the first 20 factorials\n"
   ]
  },
  {
   "cell_type": "markdown",
   "metadata": {},
   "source": [
    "### Dictionary Comprehensions\n",
    "General Form:\n",
    "`{key_expr:value for item in iterable}`"
   ]
  },
  {
   "cell_type": "code",
   "execution_count": 34,
   "metadata": {},
   "outputs": [
    {
     "name": "stdout",
     "output_type": "stream",
     "text": [
      "{'1': 'Hydrogen', '2': 'Helium', '3': 'Lithium'}\n",
      "{'Hydrogen': '1', 'Helium': '2', 'Lithium': '3'}\n"
     ]
    }
   ],
   "source": [
    "element_protons = {'Hydrogen':'1','Helium':'2','Lithium':'3'}\n",
    "# Create a dictionary comprehension\n",
    "protons_element = {protons:element for element, protons in element_protons.items()}\n",
    "print(protons_element)\n",
    "print(element_protons)"
   ]
  },
  {
   "cell_type": "markdown",
   "metadata": {},
   "source": [
    "### Filtering Predicates\n",
    "You may use `optional` filtering predicate\n",
    "\n",
    "General form:\n",
    "`[expr(item) for item in iterable if predicate(item)]`"
   ]
  },
  {
   "cell_type": "code",
   "execution_count": 1,
   "metadata": {},
   "outputs": [
    {
     "name": "stdout",
     "output_type": "stream",
     "text": [
      "[2, 3, 5, 7, 11, 13, 17, 19, 23, 29, 31, 37, 41, 43, 47, 53, 59, 61, 67, 71, 73, 79, 83, 89, 97]\n"
     ]
    }
   ],
   "source": [
    "from math import sqrt\n",
    "\n",
    "def is_prime(n):\n",
    "    if n <= 1:\n",
    "        return False\n",
    "    return all(n % i != 0 for i in range(2, int(sqrt(n)) + 1))\n",
    "\n",
    "\n",
    "prime_list = [i for i in range(101) if is_prime(i)]\n",
    "print(prime_list)"
   ]
  },
  {
   "cell_type": "markdown",
   "metadata": {},
   "source": [
    "### TODO:\n",
    "- Iteration P=rotocools\n",
    "- Generators"
   ]
  },
  {
   "cell_type": "markdown",
   "metadata": {},
   "source": [
    "### Correlation Analysis\n",
    "- What is correlation Analysis?\n",
    "- How does correlation analysis help with data cleaning?\n",
    "- Coding Example"
   ]
  },
  {
   "cell_type": "markdown",
   "metadata": {},
   "source": [
    "### Correlation Analysis\n",
    "Is a statistical technique used to examine the strength and direction of the relationship\n",
    " between two or more variables.\n",
    "\n",
    "Analyze the degree to which changes from one variable are associated with changes from another variable."
   ]
  },
  {
   "cell_type": "markdown",
   "metadata": {
    "vscode": {
     "languageId": "plaintext"
    }
   },
   "source": [
    "### How to do it?\n",
    "Use  `Correlation Coefficients`, which is a measurement of the strength and the direction of the relationship between the two variables\n",
    "\n",
    "$$\n",
    "\\{X,Y\\}\n",
    "$$"
   ]
  },
  {
   "cell_type": "markdown",
   "metadata": {},
   "source": [
    "### Popular Correlationn Coefficients\n",
    "\n",
    "#### Pearson\n",
    "- Use for continuous data\n",
    "- Measures the strength of the `linear relationship` between the variables\n",
    "- Sensitive to outliers\n",
    "\n",
    "#### Spearman\n",
    "- Use for ordinal or ranked data\n",
    "- Measures the strength of the `monotonic relationship` between the variables, which can be linear or non-linear\n",
    "- More robust toward outliers"
   ]
  },
  {
   "cell_type": "markdown",
   "metadata": {},
   "source": [
    "Correlation analysis can identify variables that are highly correlated to each other.\n",
    "\n",
    "The analysis may indicate if one variable is `redundant` and can be eliminated"
   ]
  },
  {
   "cell_type": "markdown",
   "metadata": {},
   "source": [
    "### Dealing with Categorical Data\n",
    "- Data has many `non-numeric` features. You CAN NOT feed them into a learning model. They need to be converted\n",
    "- Use the pd.dtypes() to see the data types\n",
    "\n",
    "### Two Main Types\n",
    "- Lable encoding\n",
    "- One-hot encoding\n",
    "\n",
    "### Label encoding\n",
    "Each `unique category in the categorical variable is assigned a numerical label. Typically starting at 0, 1, etc\n"
   ]
  },
  {
   "cell_type": "markdown",
   "metadata": {},
   "source": [
    "### One-hot Encoding\n",
    "A new binary feature is created `for each` category, and the value of that feature is set to 1 if the observation belongs to that category"
   ]
  },
  {
   "cell_type": "markdown",
   "metadata": {},
   "source": []
  }
 ],
 "metadata": {
  "kernelspec": {
   "display_name": "wrangling",
   "language": "python",
   "name": "python3"
  },
  "language_info": {
   "codemirror_mode": {
    "name": "ipython",
    "version": 3
   },
   "file_extension": ".py",
   "mimetype": "text/x-python",
   "name": "python",
   "nbconvert_exporter": "python",
   "pygments_lexer": "ipython3",
   "version": "3.11.9"
  }
 },
 "nbformat": 4,
 "nbformat_minor": 2
}
