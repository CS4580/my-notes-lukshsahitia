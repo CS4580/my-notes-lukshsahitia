{
 "cells": [
  {
   "cell_type": "markdown",
   "metadata": {},
   "source": [
    "## Iterables\n",
    "\n",
    "Include comprehensions, iterable objects, and iterators. We can briefly discuss evaluation model with generators.\n",
    "\n",
    "### List Comprehensions:\n",
    "The short hand of comprehensions will make your code more readable, expressive and effective.\n",
    "\n",
    "General Form:\n",
    "\n",
    "```\n",
    "[expr(item) for item in iterable]\n",
    "```"
   ]
  },
  {
   "cell_type": "code",
   "execution_count": 2,
   "metadata": {},
   "outputs": [
    {
     "data": {
      "text/plain": [
       "['Today', 'I', 'am', 'very', 'happy', 'to', 'learn', 'about', 'Comprehensions']"
      ]
     },
     "execution_count": 2,
     "metadata": {},
     "output_type": "execute_result"
    }
   ],
   "source": [
    "# A big String\n",
    "words = \"Today I am very happy to learn about Comprehensions\".split()\n",
    "words"
   ]
  },
  {
   "cell_type": "code",
   "execution_count": 4,
   "metadata": {},
   "outputs": [
    {
     "name": "stdout",
     "output_type": "stream",
     "text": [
      "['Today', 'I', 'am', 'very', 'happy', 'to', 'learn', 'about', 'Comprehensions']\n",
      "[5, 1, 2, 4, 5, 2, 5, 5, 14]\n"
     ]
    }
   ],
   "source": [
    "# Create a new list with the length of each string from words\n",
    "\n",
    "lengths = []\n",
    "for word in words:\n",
    "    lengths.append(len(word))\n",
    "\n",
    "print(words)\n",
    "print(lengths)"
   ]
  },
  {
   "cell_type": "code",
   "execution_count": 5,
   "metadata": {},
   "outputs": [
    {
     "name": "stdout",
     "output_type": "stream",
     "text": [
      "[5, 1, 2, 4, 5, 2, 5, 5, 14]\n"
     ]
    }
   ],
   "source": [
    "# Use a List comprehension instead\n",
    "lengths = [len(word) for word in words]\n",
    "print(lengths)"
   ]
  },
  {
   "cell_type": "code",
   "execution_count": 7,
   "metadata": {},
   "outputs": [
    {
     "name": "stdout",
     "output_type": "stream",
     "text": [
      "First 20 Fact numbers are: [1, 1, 1, 2, 3, 3, 4, 5, 6, 7, 8, 9, 10, 11, 13, 14, 15, 16, 18, 19]\n"
     ]
    }
   ],
   "source": [
    "# TASK: Using a list comprehension, calculate the length (number of digits) of the \n",
    "# first 20 factorial numbers\n",
    "\n",
    "from math import factorial as fact\n",
    "\n",
    "numbers =  [len(str(fact(number))) for number in range(1, 21)]\n",
    "print(f'First 20 Fact numbers are: {numbers}')"
   ]
  },
  {
   "cell_type": "markdown",
   "metadata": {},
   "source": [
    "### Set Comprehensions\n",
    "\n",
    "General Form:\n",
    "\n",
    "```\n",
    "[expr(item) for item in iterable]\n",
    "```"
   ]
  },
  {
   "cell_type": "code",
   "execution_count": 8,
   "metadata": {},
   "outputs": [
    {
     "name": "stdout",
     "output_type": "stream",
     "text": [
      "Unique lengths in the first 20 Fact numbers are: {1, 2, 3, 4, 5, 6, 7, 8, 9, 10, 11, 13, 14, 15, 16, 18, 19}\n"
     ]
    }
   ],
   "source": [
    "# Task: Create a list of unique length of th first 20 factorials\n",
    "numbers = {len(str(fact(number))) for number in range(1, 21)}\n",
    "print(f'Unique lengths in the first 20 Fact numbers are: {numbers}')"
   ]
  },
  {
   "cell_type": "markdown",
   "metadata": {},
   "source": [
    "### Dictionary Comprehensions\n",
    "\n",
    "General Form:\n",
    "```\n",
    "{key_expr: value for item in iterable}\n",
    "```"
   ]
  },
  {
   "cell_type": "code",
   "execution_count": 10,
   "metadata": {},
   "outputs": [
    {
     "name": "stdout",
     "output_type": "stream",
     "text": [
      "{'Warriors': 'San Francisco', 'Lakers': 'Los Angeles', 'Jazz': 'Salt Lake City'}\n",
      "{'San Francisco': 'Warriors', 'Los Angeles': 'Lakers', 'Salt Lake City': 'Jazz'}\n"
     ]
    }
   ],
   "source": [
    "nba_teams = {'Warriors': 'San Francisco', 'Lakers': 'Los Angeles', 'Jazz': 'Salt Lake City'}\n",
    "# Create dictionary comprehensions\n",
    "teams_nba = {city:mascot for mascot, city in nba_teams.items()}\n",
    "print(nba_teams)\n",
    "print(teams_nba)"
   ]
  },
  {
   "cell_type": "markdown",
   "metadata": {},
   "source": [
    "### Filtering Predicates\n",
    "\n",
    "You may use `optional` filtering predicate\n",
    "\n",
    "General Form:\n",
    "\n",
    "```\n",
    "[expr(item) for item in iterable if predicate(item)]\n",
    "```"
   ]
  },
  {
   "cell_type": "code",
   "execution_count": 15,
   "metadata": {},
   "outputs": [
    {
     "name": "stdout",
     "output_type": "stream",
     "text": [
      "Prime number in first 100 digits [2, 3, 5, 7, 11, 13, 17, 19, 23, 29, 31, 37, 41, 43, 47, 53, 59, 61, 67, 71, 73, 79, 83, 89, 97]\n"
     ]
    }
   ],
   "source": [
    "from math import sqrt\n",
    "\n",
    "def is_prime(number):\n",
    "    if number < 2:\n",
    "        return False\n",
    "    for i in range(2, int(sqrt(number)) + 1):\n",
    "        if number % i == 0:\n",
    "            return False\n",
    "    # Prime number at this point\n",
    "    return True \n",
    "\n",
    "# Task: Create a list of prime numbers in the first 100 numbers.\n",
    "primes = [x for x in range(101) if is_prime(x)]\n",
    "print(f'Prime number in first 100 digits {primes}')\n",
    "\n",
    "# MOMENT OF ZEN: Simple is better than Complex.\n",
    "# Code is written once, but read over and over.\n",
    "# Fewer is clearer"
   ]
  },
  {
   "cell_type": "code",
   "execution_count": 16,
   "metadata": {},
   "outputs": [],
   "source": [
    "# import this # The Zen of Python"
   ]
  },
  {
   "cell_type": "markdown",
   "metadata": {},
   "source": [
    "## TODO :\n",
    "\n",
    "- Iteration Protocols\n",
    "- Generators"
   ]
  },
  {
   "cell_type": "markdown",
   "metadata": {},
   "source": []
  }
 ],
 "metadata": {
  "kernelspec": {
   "display_name": "CS4580",
   "language": "python",
   "name": "python3"
  },
  "language_info": {
   "codemirror_mode": {
    "name": "ipython",
    "version": 3
   },
   "file_extension": ".py",
   "mimetype": "text/x-python",
   "name": "python",
   "nbconvert_exporter": "python",
   "pygments_lexer": "ipython3",
   "version": "3.12.7"
  }
 },
 "nbformat": 4,
 "nbformat_minor": 2
}
